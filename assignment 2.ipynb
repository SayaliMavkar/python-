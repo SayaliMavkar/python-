{
 "cells": [
  {
   "cell_type": "markdown",
   "id": "a6572b75",
   "metadata": {},
   "source": [
    "# set A (strings)"
   ]
  },
  {
   "cell_type": "code",
   "execution_count": 1,
   "id": "6abd0927",
   "metadata": {},
   "outputs": [
    {
     "name": "stdout",
     "output_type": "stream",
     "text": [
      "Enter any stringhello\n",
      "given string is Not Symmetrical\n",
      "given string is Not Palindrome\n"
     ]
    }
   ],
   "source": [
    "#1.Write a python program to check whether the string is Symmetrical or Palindrome\n",
    "def symmetrical(str1,str2):\n",
    " if(str1==str2):\n",
    "     print(\"given string is Symmetrical\")\n",
    " else:\n",
    "     print(\"given string is Not Symmetrical\")\n",
    "def palindrome(str1,str2):\n",
    " if(str1==str2[::-1]):\n",
    "   print(\"given string is Palindrome\")\n",
    " else:\n",
    "   print(\"given string is Not Palindrome\")\n",
    "\n",
    "str=input(\"Enter any string\")\n",
    "size=len(str)\n",
    "mid=size//2\n",
    "if(size%2==0):\n",
    "    str1=str[:mid]\n",
    "    str2=str[mid:]\n",
    "else:\n",
    "    str1=str[:mid]\n",
    "    str2=str[mid+1:]\n",
    "symmetrical(str1,str2)\n",
    "palindrome(str1,str2)"
   ]
  },
  {
   "cell_type": "code",
   "execution_count": 2,
   "id": "11545842",
   "metadata": {},
   "outputs": [
    {
     "name": "stdout",
     "output_type": "stream",
     "text": [
      "programmer python a am I\n"
     ]
    }
   ],
   "source": [
    "#2.Write a python program to Reverse words in a given String\n",
    "string = \"I am a python programmer\"\n",
    "words = string.split()\n",
    "words = list(reversed(words))\n",
    "print(\" \".join(words))"
   ]
  },
  {
   "cell_type": "code",
   "execution_count": 3,
   "id": "184b00b5",
   "metadata": {},
   "outputs": [
    {
     "name": "stdout",
     "output_type": "stream",
     "text": [
      "Pythnisgood\n"
     ]
    }
   ],
   "source": [
    "#3.Write a python program to remove i’th character from string in different ways\n",
    "def remove_char(s, i):\n",
    "    a = s[ : i]\n",
    "    b = s[i + 1: ]\n",
    "\n",
    "    return a+b\n",
    "\n",
    "string = \"Pythonisgood\"\n",
    "# Remove ith index element\n",
    "i = 5\n",
    "print(remove_char(string,i-1))"
   ]
  },
  {
   "cell_type": "markdown",
   "id": "b0c9c673",
   "metadata": {},
   "source": [
    "# set A (Functions)"
   ]
  },
  {
   "cell_type": "code",
   "execution_count": 4,
   "id": "4ce2ad2e",
   "metadata": {},
   "outputs": [
    {
     "name": "stdout",
     "output_type": "stream",
     "text": [
      "Enter first number: 8\n",
      "Enter second number: 4\n",
      "Enter Third number: 3\n",
      "Largest number among  the three is 8\n"
     ]
    }
   ],
   "source": [
    "\n",
    "#1.Write a Python function to find the Max of three numbers.\n",
    "n1=int(input(\"Enter first number: \"));\n",
    "n2=int(input(\"Enter second number: \"));\n",
    "n3=int(input(\"Enter Third number: \"));\n",
    "def max():\n",
    "    if(n1>=n2) and (n1>=n3):\n",
    "        l=n1\n",
    "    elif(n2>=n1) and (n2>=n3):\n",
    "         l=n2\n",
    "    else:\n",
    "         l=n3\n",
    "    print(\"Largest number among  the three is\",l)\n",
    "max()"
   ]
  },
  {
   "cell_type": "code",
   "execution_count": 5,
   "id": "db98c617",
   "metadata": {},
   "outputs": [
    {
     "name": "stdout",
     "output_type": "stream",
     "text": [
      "20\n"
     ]
    }
   ],
   "source": [
    "#2.Write a Python function to sum all the numbers in a list.\n",
    "def sum(numbers):\n",
    "    total = 0\n",
    "    for x in numbers:\n",
    "        total += x\n",
    "    return total\n",
    "print(sum((8, 2, 3, 0, 7)))"
   ]
  },
  {
   "cell_type": "code",
   "execution_count": 6,
   "id": "30e727b2",
   "metadata": {},
   "outputs": [
    {
     "name": "stdout",
     "output_type": "stream",
     "text": [
      "The original string  is :  Hello I am Pranjal\n",
      "The reversed string using extended slice operator  is :  lajnarP ma I olleH\n"
     ]
    }
   ],
   "source": [
    "#3.Write a Python program to reverse a string.\n",
    "def reverse(str):   \n",
    "    str = str[::-1]   \n",
    "    return str   \n",
    "    \n",
    "s = \"Hello I am Pranjal\"  \n",
    "print (\"The original string  is : \",s)   \n",
    "print (\"The reversed string using extended slice operator  is : \",reverse(s))  "
   ]
  },
  {
   "cell_type": "markdown",
   "id": "cfcda46e",
   "metadata": {},
   "source": [
    "# set B (strings)"
   ]
  },
  {
   "cell_type": "code",
   "execution_count": 7,
   "id": "ee2c5a25",
   "metadata": {},
   "outputs": [
    {
     "name": "stdout",
     "output_type": "stream",
     "text": [
      "Hello I am Pranjal\n",
      "am\n"
     ]
    }
   ],
   "source": [
    "#1.Write a python program to print even length words in a string\n",
    "def printWords(s):\n",
    "    print(s)\n",
    "    s = s.split(' ') \n",
    "    for word in s: \n",
    "        if len(word)%2==0:\n",
    "            print(word) \n",
    "            \n",
    "    s = \"i am pranjal\" \n",
    "printWords(s) "
   ]
  },
  {
   "cell_type": "code",
   "execution_count": 8,
   "id": "f1d637d3",
   "metadata": {},
   "outputs": [
    {
     "name": "stdout",
     "output_type": "stream",
     "text": [
      "Enter string:hello\n",
      "not accepted\n"
     ]
    }
   ],
   "source": [
    "#2.Write a python program to accept the strings which contains all vowels\n",
    "def check(string):\n",
    "    string = string.replace(' ', '')\n",
    "    string = string.lower()\n",
    "    vowel = [string.count('a'), string.count('e'), string.count(\n",
    "        'i'), string.count('o'), string.count('u')]\n",
    "\n",
    "    if vowel.count(0) > 0:\n",
    "        return('not accepted')\n",
    "    else:\n",
    "        return('accepted')\n",
    "\n",
    "if __name__ == \"__main__\":\n",
    "\n",
    "    string = input(\"Enter string:\")\n",
    "    print(check(string))\n"
   ]
  },
  {
   "cell_type": "code",
   "execution_count": 9,
   "id": "8a2d9e1a",
   "metadata": {},
   "outputs": [
    {
     "name": "stdout",
     "output_type": "stream",
     "text": [
      "Enter string1:hello\n",
      "Enter string2:hi\n",
      "No. of matching characters are  1\n"
     ]
    }
   ],
   "source": [
    "#3.Write a python program to Count the Number of matching characters in a pair of string\n",
    "import re\n",
    "ip1 = input(\"Enter string1:\")\n",
    "ip2 = input(\"Enter string2:\")\n",
    "  \n",
    "c = 0\n",
    "for i in ip1:\n",
    "    if re.search(i,ip2):\n",
    "        c=c+1\n",
    "print(\"No. of matching characters are \", c)"
   ]
  },
  {
   "cell_type": "markdown",
   "id": "311653af",
   "metadata": {},
   "source": [
    "# set B (Functions)"
   ]
  },
  {
   "cell_type": "code",
   "execution_count": 10,
   "id": "34938325",
   "metadata": {},
   "outputs": [
    {
     "name": "stdout",
     "output_type": "stream",
     "text": [
      "[1, 2, 3, 4]\n"
     ]
    }
   ],
   "source": [
    "#1. Write a Python function that takes a list and returns a new list with unique elements of the first list\n",
    "def f(list):\n",
    "\n",
    "    a=set(list)\n",
    "\n",
    "    print(sorted(a))\n",
    "\n",
    "f([1,1,1,2,3,4])"
   ]
  },
  {
   "cell_type": "code",
   "execution_count": 11,
   "id": "881a0e31",
   "metadata": {},
   "outputs": [
    {
     "name": "stdout",
     "output_type": "stream",
     "text": [
      "Enter an input number:8\n",
      "8 is not a prime number\n"
     ]
    }
   ],
   "source": [
    "#2.Write a Python function that takes a number as a parameter and check the number is prime or not\n",
    "def PrimeChecker(a):  \n",
    "    if a > 1:  \n",
    "        for j in range(2, int(a/2) + 1):  \n",
    "            if (a % j) == 0:  \n",
    "                print(a, \"is not a prime number\")  \n",
    "                break  \n",
    "        else:  \n",
    "            print(a, \"is a prime number\")  \n",
    "    else:  \n",
    "        print(a, \"is not a prime number\")  \n",
    "a = int(input(\"Enter an input number:\"))  \n",
    "PrimeChecker(a)  "
   ]
  },
  {
   "cell_type": "code",
   "execution_count": 12,
   "id": "c4ca6aa5",
   "metadata": {},
   "outputs": [
    {
     "name": "stdout",
     "output_type": "stream",
     "text": [
      "Enter any number: 6\n",
      "The number is a Perfect number!\n"
     ]
    }
   ],
   "source": [
    "#3.Write a Python function to check whether a number is perfect or not\n",
    "n = int(input(\"Enter any number: \"))\n",
    "sum1 = 0\n",
    "for i in range(1, n):\n",
    "    if(n % i == 0):\n",
    "        sum1 = sum1 + i\n",
    "if (sum1 == n):\n",
    "    print(\"The number is a Perfect number!\")\n",
    "else:\n",
    "    print(\"The number is not a Perfect number!\")"
   ]
  },
  {
   "cell_type": "markdown",
   "id": "b319cec1",
   "metadata": {},
   "source": [
    "# PROGRAMS FOR PRACTICE:"
   ]
  },
  {
   "cell_type": "code",
   "execution_count": 13,
   "id": "ae82b18e",
   "metadata": {},
   "outputs": [
    {
     "name": "stdout",
     "output_type": "stream",
     "text": [
      "[1, 5, 2, 5, 3, 5, 4, 5, 5, 5]\n"
     ]
    }
   ],
   "source": [
    "#1. Write a Python program to append items from a specified list.\n",
    "input = [1, 2, 3, 4, 5]\n",
    "key = 5\n",
    "  \n",
    "result = []\n",
    "for ele in input:\n",
    "    result.append(ele)\n",
    "    result.append(key)\n",
    "  \n",
    "print(result)"
   ]
  },
  {
   "cell_type": "code",
   "execution_count": 14,
   "id": "e7e75d3b",
   "metadata": {},
   "outputs": [
    {
     "name": "stdout",
     "output_type": "stream",
     "text": [
      "YES\n"
     ]
    }
   ],
   "source": [
    "#2.Write a python program Check if a Substring is Present in a Given String\n",
    "def check(string, sub_str):\n",
    "    if (string.find(sub_str) == -1):\n",
    "        print(\"NO\")\n",
    "    else:\n",
    "        print(\"YES\")\n",
    "            \n",
    "# driver code\n",
    "string = \"Hello Tybcs welcome\"\n",
    "sub_str =\"Tybcs\"\n",
    "check(string, sub_str)"
   ]
  },
  {
   "cell_type": "code",
   "execution_count": 22,
   "id": "daad61cf",
   "metadata": {},
   "outputs": [
    {
     "name": "stdout",
     "output_type": "stream",
     "text": [
      "Frequency of apple is : 3\n",
      "Frequency of mango is : 3\n",
      "Frequency of orange is : 2\n",
      "Frequency of guava is : 1\n"
     ]
    }
   ],
   "source": [
    "#3.Write a python program Words Frequency in String Shorthands\n",
    "def freq(str):\n",
    "    str = str.split()         \n",
    "    str2 = []\n",
    "    for i in str:             \n",
    "        if i not in str2:\n",
    "            str2.append(i)               \n",
    "    for i in range(0, len(str2)):\n",
    "        print('Frequency of', str2[i], 'is :', str.count(str2[i]))      \n",
    "def main():\n",
    "    str ='apple mango apple orange orange apple guava mango mango'\n",
    "    freq(str)                    \n",
    "  \n",
    "if __name__==\"__main__\":\n",
    "    main()             "
   ]
  },
  {
   "cell_type": "code",
   "execution_count": 1,
   "id": "3013580e",
   "metadata": {},
   "outputs": [
    {
     "name": "stdout",
     "output_type": "stream",
     "text": [
      "Enter any stringHi_I_am_Sayali\n",
      "Hi_I_am_Sayali\n",
      "Hi I am Sayali\n"
     ]
    }
   ],
   "source": [
    "#4.Write a python program Convert Snake case to Pascal case\n",
    "str1=input(\"Enter any string\")\n",
    "newstr1=str1.replace('_',' ')\n",
    "print(str1)\n",
    "print(newstr1)"
   ]
  },
  {
   "cell_type": "code",
   "execution_count": 2,
   "id": "68745d0c",
   "metadata": {},
   "outputs": [
    {
     "name": "stdout",
     "output_type": "stream",
     "text": [
      "Enter any number: 8\n",
      "Factorial of 8 is 40320\n"
     ]
    }
   ],
   "source": [
    "#5.Write a Python function to calculate the factorial of a number (a non-negative integer). The functionaccepts the number \n",
    "#as an argument\n",
    "def factorial(n):\n",
    "    return 1 if (n==1 or n==0) else n * factorial(n - 1);\n",
    "num = int(input(\"Enter any number: \"))\n",
    "print(\"Factorial of\",num,\"is\",\n",
    "factorial(num))\n"
   ]
  },
  {
   "cell_type": "code",
   "execution_count": 4,
   "id": "b71e6093",
   "metadata": {},
   "outputs": [
    {
     "name": "stdout",
     "output_type": "stream",
     "text": [
      "Enter any number1: 1\n",
      "Enter any number2: 10\n",
      "Enter any number: 5\n",
      "True\n"
     ]
    }
   ],
   "source": [
    "#6.Write a Python function to check whether a number is in a given\n",
    "start=(int(input(\"Enter any number1: \")))\n",
    "end=(int(input(\"Enter any number2: \")))\n",
    "is_between = (int(input(\"Enter any number: \")))in range(start,end)\n",
    "\n",
    "print(is_between)"
   ]
  },
  {
   "cell_type": "code",
   "execution_count": 5,
   "id": "ddd5c727",
   "metadata": {},
   "outputs": [
    {
     "name": "stdout",
     "output_type": "stream",
     "text": [
      "Enter any string:hello\n",
      "Original String :  hello\n",
      "No. of Upper case characters :  0\n",
      "No. of Lower case Characters :  5\n"
     ]
    }
   ],
   "source": [
    "#7.Write a Python function that accepts a string and calculate the number of upper case letters and lower case\n",
    "def string_test(s):\n",
    "    d={\"UPPER_CASE\":0, \"LOWER_CASE\":0}\n",
    "    for c in s:\n",
    "        if c.isupper():\n",
    "           d[\"UPPER_CASE\"]+=1\n",
    "        elif c.islower():\n",
    "           d[\"LOWER_CASE\"]+=1\n",
    "        else:\n",
    "           pass\n",
    "    print (\"Original String : \", s)\n",
    "    print (\"No. of Upper case characters : \", d[\"UPPER_CASE\"])\n",
    "    print (\"No. of Lower case Characters : \", d[\"LOWER_CASE\"])\n",
    "\n",
    "string_test(input(\"Enter any string:\"))"
   ]
  },
  {
   "cell_type": "code",
   "execution_count": 6,
   "id": "3ebee555",
   "metadata": {},
   "outputs": [
    {
     "name": "stdout",
     "output_type": "stream",
     "text": [
      "Number of local varibales available: 4\n"
     ]
    }
   ],
   "source": [
    "#8. Write a Python program to detect the number of local variables declared in a function.\n",
    "def scope():\n",
    "    a = 17\n",
    "    b = 9\n",
    "    c = 2000\n",
    "    str = 'Python'\n",
    "\n",
    "print(\"Number of local varibales available:\",scope.__code__.co_nlocals)"
   ]
  },
  {
   "cell_type": "code",
   "execution_count": 7,
   "id": "98316508",
   "metadata": {},
   "outputs": [
    {
     "name": "stdout",
     "output_type": "stream",
     "text": [
      "Enter any string:hello\n",
      "hello\n",
      "hleo\n"
     ]
    }
   ],
   "source": [
    "#9.Write a python program to Remove all duplicates from a given string in Python\n",
    "def removeDuplicate(str, n):\n",
    "    s = set()\n",
    "    for i in str:\n",
    "        s.add(i)\n",
    "    st = \"\"\n",
    "    for i in s:\n",
    "        st = st+i\n",
    "    return st\n",
    "str = (input(\"Enter any string:\"))\n",
    "print(str)\n",
    "n = len(str)\n",
    "print(removeDuplicate(list(str), n))\n",
    "\n"
   ]
  },
  {
   "cell_type": "code",
   "execution_count": 8,
   "id": "2e2d250f",
   "metadata": {},
   "outputs": [
    {
     "name": "stdout",
     "output_type": "stream",
     "text": [
      "Enter any string:madam\n",
      "madam\n",
      "given string is palindrome\n"
     ]
    }
   ],
   "source": [
    "#10.Write a Python function that checks whether a passed string is palindrome or\n",
    "def isPalindrome(s):\n",
    "    return string == string[::-1]\n",
    "string = (input(\"Enter any string:\"))\n",
    "ans = isPalindrome(string)\n",
    "print(string)\n",
    "if ans:\n",
    "    print(\"given string is palindrome\")\n",
    "else:\n",
    "    print(\"given string is not palindrome\")\n"
   ]
  },
  {
   "cell_type": "code",
   "execution_count": 9,
   "id": "958819e3",
   "metadata": {},
   "outputs": [
    {
     "name": "stdout",
     "output_type": "stream",
     "text": [
      "Enter any string:hello\n",
      "['hello']\n",
      "['hello']\n",
      "hello\n"
     ]
    }
   ],
   "source": [
    "#11.Write a Python program that accepts a hyphen-separated sequence of words as input and prints the words in a\n",
    "#hyphen-separated sequence after sorting them alphabetically.\n",
    "str=input(\"Enter any string:\")\n",
    "s=str.split('-')\n",
    "print(s)\n",
    "s.sort()\n",
    "print(s)\n",
    "print('-'.join(s))"
   ]
  },
  {
   "cell_type": "code",
   "execution_count": 10,
   "id": "1720b58a",
   "metadata": {},
   "outputs": [
    {
     "name": "stdout",
     "output_type": "stream",
     "text": [
      "[1, 4, 9, 16, 25, 36, 49, 64, 81, 100, 121, 144, 169, 196, 225, 256, 289, 324, 361, 400, 441, 484, 529, 576, 625, 676, 729, 784, 841, 900, 961, 1024, 1089, 1156, 1225, 1296, 1369, 1444, 1521, 1600, 1681, 1764, 1849, 1936, 2025, 2116, 2209, 2304, 2401, 2500]\n"
     ]
    }
   ],
   "source": [
    "#12.Write a Python function to create and print a list where the values are square of numbers\n",
    "#between 1 and 50 (both included).\n",
    "def printValues():\n",
    "    l = list()\n",
    "    for i in range(1,51):\n",
    "        l.append(i**2)\n",
    "    print(l)\n",
    " \n",
    "printValues()"
   ]
  },
  {
   "cell_type": "code",
   "execution_count": 11,
   "id": "d52d95a3",
   "metadata": {},
   "outputs": [
    {
     "name": "stdout",
     "output_type": "stream",
     "text": [
      "Enter any string:hello\n",
      "hello\n"
     ]
    }
   ],
   "source": [
    "#13.Write a Python program to execute a string containing Python code.\n",
    "my_string =input(\"Enter any string:\")\n",
    "print(my_string)"
   ]
  },
  {
   "cell_type": "code",
   "execution_count": 12,
   "id": "560ca402",
   "metadata": {},
   "outputs": [
    {
     "name": "stdout",
     "output_type": "stream",
     "text": [
      "Enter any number: 8\n",
      "Enter any number: 6\n",
      "15\n"
     ]
    }
   ],
   "source": [
    "#14.Write a Python program to access a function inside a function.\n",
    "def function(a):\n",
    "        def add(b):\n",
    "                nonlocal a\n",
    "                a += 1\n",
    "                return a+b\n",
    "        return add\n",
    "func= function(int(input(\"Enter any number: \")))\n",
    "print(func(int(input(\"Enter any number: \"))))"
   ]
  },
  {
   "cell_type": "code",
   "execution_count": null,
   "id": "9b564c2f",
   "metadata": {},
   "outputs": [],
   "source": []
  }
 ],
 "metadata": {
  "kernelspec": {
   "display_name": "Python 3 (ipykernel)",
   "language": "python",
   "name": "python3"
  },
  "language_info": {
   "codemirror_mode": {
    "name": "ipython",
    "version": 3
   },
   "file_extension": ".py",
   "mimetype": "text/x-python",
   "name": "python",
   "nbconvert_exporter": "python",
   "pygments_lexer": "ipython3",
   "version": "3.9.7"
  }
 },
 "nbformat": 4,
 "nbformat_minor": 5
}
